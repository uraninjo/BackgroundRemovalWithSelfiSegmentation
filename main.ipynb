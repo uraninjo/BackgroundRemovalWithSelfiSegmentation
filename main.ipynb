{
 "cells": [
  {
   "cell_type": "code",
   "execution_count": 1,
   "metadata": {},
   "outputs": [
    {
     "name": "stdout",
     "output_type": "stream",
     "text": [
      "Requirement already satisfied: cvzone in c:\\users\\mehmu\\pycharmprojects\\pythonproject\\venv\\lib\\site-packages (1.5.2)\n",
      "Requirement already satisfied: opencv-python in c:\\users\\mehmu\\pycharmprojects\\pythonproject\\venv\\lib\\site-packages (from cvzone) (4.5.3.56)\n",
      "Requirement already satisfied: numpy in c:\\users\\mehmu\\pycharmprojects\\pythonproject\\venv\\lib\\site-packages (from cvzone) (1.19.5)\n",
      "Requirement already satisfied: mediapipe in c:\\users\\mehmu\\pycharmprojects\\pythonproject\\venv\\lib\\site-packages (0.8.7.2)\n",
      "Requirement already satisfied: attrs>=19.1.0 in c:\\users\\mehmu\\pycharmprojects\\pythonproject\\venv\\lib\\site-packages (from mediapipe) (21.2.0)\n",
      "Requirement already satisfied: protobuf>=3.11.4 in c:\\users\\mehmu\\pycharmprojects\\pythonproject\\venv\\lib\\site-packages (from mediapipe) (3.17.3)\n",
      "Requirement already satisfied: absl-py in c:\\users\\mehmu\\pycharmprojects\\pythonproject\\venv\\lib\\site-packages (from mediapipe) (0.13.0)\n",
      "Requirement already satisfied: wheel in c:\\users\\mehmu\\pycharmprojects\\pythonproject\\venv\\lib\\site-packages (from mediapipe) (0.36.2)\n",
      "Requirement already satisfied: numpy in c:\\users\\mehmu\\pycharmprojects\\pythonproject\\venv\\lib\\site-packages (from mediapipe) (1.19.5)\n",
      "Requirement already satisfied: opencv-contrib-python in c:\\users\\mehmu\\pycharmprojects\\pythonproject\\venv\\lib\\site-packages (from mediapipe) (4.5.3.56)\n",
      "Requirement already satisfied: six in c:\\users\\mehmu\\pycharmprojects\\pythonproject\\venv\\lib\\site-packages (from mediapipe) (1.15.0)\n",
      "Requirement already satisfied: matplotlib in c:\\users\\mehmu\\pycharmprojects\\pythonproject\\venv\\lib\\site-packages (from mediapipe) (3.4.3)\n",
      "Requirement already satisfied: pillow>=6.2.0 in c:\\users\\mehmu\\pycharmprojects\\pythonproject\\venv\\lib\\site-packages (from matplotlib->mediapipe) (8.3.1)\n",
      "Requirement already satisfied: python-dateutil>=2.7 in c:\\users\\mehmu\\pycharmprojects\\pythonproject\\venv\\lib\\site-packages (from matplotlib->mediapipe) (2.8.2)\n",
      "Requirement already satisfied: kiwisolver>=1.0.1 in c:\\users\\mehmu\\pycharmprojects\\pythonproject\\venv\\lib\\site-packages (from matplotlib->mediapipe) (1.3.2)\n",
      "Requirement already satisfied: pyparsing>=2.2.1 in c:\\users\\mehmu\\pycharmprojects\\pythonproject\\venv\\lib\\site-packages (from matplotlib->mediapipe) (2.4.7)\n",
      "Requirement already satisfied: cycler>=0.10 in c:\\users\\mehmu\\pycharmprojects\\pythonproject\\venv\\lib\\site-packages (from matplotlib->mediapipe) (0.10.0)\n",
      "Requirement already satisfied: ipykernel in c:\\users\\mehmu\\pycharmprojects\\pythonproject\\venv\\lib\\site-packages (6.3.1)\n",
      "Collecting ipykernel\n",
      "  Downloading ipykernel-6.4.1-py3-none-any.whl (124 kB)\n",
      "Requirement already satisfied: jupyter-client<8.0 in c:\\users\\mehmu\\pycharmprojects\\pythonproject\\venv\\lib\\site-packages (from ipykernel) (7.0.2)\n",
      "Requirement already satisfied: matplotlib-inline<0.2.0,>=0.1.0 in c:\\users\\mehmu\\pycharmprojects\\pythonproject\\venv\\lib\\site-packages (from ipykernel) (0.1.2)\n",
      "Requirement already satisfied: ipython<8.0,>=7.23.1 in c:\\users\\mehmu\\pycharmprojects\\pythonproject\\venv\\lib\\site-packages (from ipykernel) (7.27.0)\n",
      "Requirement already satisfied: debugpy<2.0,>=1.0.0 in c:\\users\\mehmu\\pycharmprojects\\pythonproject\\venv\\lib\\site-packages (from ipykernel) (1.4.1)\n",
      "Requirement already satisfied: tornado<7.0,>=4.2 in c:\\users\\mehmu\\pycharmprojects\\pythonproject\\venv\\lib\\site-packages (from ipykernel) (6.1)\n",
      "Requirement already satisfied: ipython-genutils in c:\\users\\mehmu\\pycharmprojects\\pythonproject\\venv\\lib\\site-packages (from ipykernel) (0.2.0)\n",
      "Requirement already satisfied: traitlets<6.0,>=4.1.0 in c:\\users\\mehmu\\pycharmprojects\\pythonproject\\venv\\lib\\site-packages (from ipykernel) (5.1.0)\n",
      "Requirement already satisfied: pickleshare in c:\\users\\mehmu\\pycharmprojects\\pythonproject\\venv\\lib\\site-packages (from ipython<8.0,>=7.23.1->ipykernel) (0.7.5)\n",
      "Requirement already satisfied: prompt-toolkit!=3.0.0,!=3.0.1,<3.1.0,>=2.0.0 in c:\\users\\mehmu\\pycharmprojects\\pythonproject\\venv\\lib\\site-packages (from ipython<8.0,>=7.23.1->ipykernel) (3.0.20)\n",
      "Requirement already satisfied: colorama in c:\\users\\mehmu\\appdata\\local\\programs\\python\\python39\\lib\\site-packages (from ipython<8.0,>=7.23.1->ipykernel) (0.4.4)\n",
      "Requirement already satisfied: setuptools>=18.5 in c:\\users\\mehmu\\pycharmprojects\\pythonproject\\venv\\lib\\site-packages (from ipython<8.0,>=7.23.1->ipykernel) (57.0.0)\n",
      "Requirement already satisfied: pygments in c:\\users\\mehmu\\pycharmprojects\\pythonproject\\venv\\lib\\site-packages (from ipython<8.0,>=7.23.1->ipykernel) (2.10.0)\n",
      "Requirement already satisfied: backcall in c:\\users\\mehmu\\pycharmprojects\\pythonproject\\venv\\lib\\site-packages (from ipython<8.0,>=7.23.1->ipykernel) (0.2.0)\n",
      "Requirement already satisfied: jedi>=0.16 in c:\\users\\mehmu\\pycharmprojects\\pythonproject\\venv\\lib\\site-packages (from ipython<8.0,>=7.23.1->ipykernel) (0.18.0)\n",
      "Requirement already satisfied: decorator in c:\\users\\mehmu\\pycharmprojects\\pythonproject\\venv\\lib\\site-packages (from ipython<8.0,>=7.23.1->ipykernel) (5.0.9)\n",
      "Requirement already satisfied: parso<0.9.0,>=0.8.0 in c:\\users\\mehmu\\pycharmprojects\\pythonproject\\venv\\lib\\site-packages (from jedi>=0.16->ipython<8.0,>=7.23.1->ipykernel) (0.8.2)\n",
      "Requirement already satisfied: jupyter-core>=4.6.0 in c:\\users\\mehmu\\pycharmprojects\\pythonproject\\venv\\lib\\site-packages (from jupyter-client<8.0->ipykernel) (4.7.1)\n",
      "Requirement already satisfied: python-dateutil>=2.1 in c:\\users\\mehmu\\pycharmprojects\\pythonproject\\venv\\lib\\site-packages (from jupyter-client<8.0->ipykernel) (2.8.2)\n",
      "Requirement already satisfied: entrypoints in c:\\users\\mehmu\\pycharmprojects\\pythonproject\\venv\\lib\\site-packages (from jupyter-client<8.0->ipykernel) (0.3)\n",
      "Requirement already satisfied: nest-asyncio>=1.5 in c:\\users\\mehmu\\pycharmprojects\\pythonproject\\venv\\lib\\site-packages (from jupyter-client<8.0->ipykernel) (1.5.1)\n",
      "Requirement already satisfied: pyzmq>=13 in c:\\users\\mehmu\\pycharmprojects\\pythonproject\\venv\\lib\\site-packages (from jupyter-client<8.0->ipykernel) (22.2.1)\n",
      "Requirement already satisfied: pywin32>=1.0 in c:\\users\\mehmu\\appdata\\local\\programs\\python\\python39\\lib\\site-packages (from jupyter-core>=4.6.0->jupyter-client<8.0->ipykernel) (301)\n",
      "Requirement already satisfied: wcwidth in c:\\users\\mehmu\\pycharmprojects\\pythonproject\\venv\\lib\\site-packages (from prompt-toolkit!=3.0.0,!=3.0.1,<3.1.0,>=2.0.0->ipython<8.0,>=7.23.1->ipykernel) (0.2.5)\n",
      "Requirement already satisfied: six>=1.5 in c:\\users\\mehmu\\pycharmprojects\\pythonproject\\venv\\lib\\site-packages (from python-dateutil>=2.1->jupyter-client<8.0->ipykernel) (1.15.0)\n",
      "Installing collected packages: ipykernel\n",
      "  Attempting uninstall: ipykernel\n",
      "    Found existing installation: ipykernel 6.3.1\n",
      "    Uninstalling ipykernel-6.3.1:\n",
      "      Successfully uninstalled ipykernel-6.3.1\n",
      "Successfully installed ipykernel-6.4.1\n"
     ]
    }
   ],
   "source": [
    "!pip install cvzone\n",
    "!pip install mediapipe\n",
    "!pip install -U ipykernel"
   ]
  },
  {
   "cell_type": "code",
   "execution_count": 1,
   "metadata": {},
   "outputs": [],
   "source": [
    "import mediapipe as mp\n",
    "import cv2\n",
    "import cvzone\n",
    "from cvzone.SelfiSegmentationModule import SelfiSegmentation\n",
    "import os"
   ]
  },
  {
   "cell_type": "code",
   "execution_count": 4,
   "metadata": {},
   "outputs": [],
   "source": [
    "cap=cv2.VideoCapture(0)\n",
    "cap.set(3,1280)\n",
    "cap.set(4,720)\n",
    "cap.set(cv2.CAP_PROP_FPS,60)\n",
    "segmentor=SelfiSegmentation()\n",
    "bg=cv2.imread(\"Images/1.jpg\")\n",
    "fps=cvzone.FPS()\n",
    "\n",
    "listImg=os.listdir(\"Images\")\n",
    "imgList=[]\n",
    "\n",
    "for path in listImg:\n",
    "    img=cv2.imread(f\"Images/{path}\")\n",
    "    imgList.append(img)\n",
    "\n",
    "index=0\n",
    "\n",
    "\n",
    "while True:\n",
    "    red,img=cap.read()\n",
    "    imgOutput=segmentor.removeBG(img,imgList[index],threshold=0.85)\n",
    "    _,imgOutput=fps.update(imgOutput,color=(0,0,255))\n",
    "    cv2.imshow(\"img\",imgOutput)\n",
    "    key=cv2.waitKey(1)\n",
    "    if key==ord(\"a\"):\n",
    "        if index>0:\n",
    "            index-=1\n",
    "    elif key==ord(\"d\"):\n",
    "        if index<len(imgList)-1: \n",
    "            index+=1\n",
    "    elif key==ord(\"q\"):\n",
    "        break\n",
    "\n"
   ]
  }
 ],
 "metadata": {
  "interpreter": {
   "hash": "a42dffdd82c4d10c806585a9f3b1586353c560f1bb00e2f628bd23b35740237f"
  },
  "kernelspec": {
   "display_name": "Python 3.9.6 64-bit (system)",
   "name": "python3"
  },
  "language_info": {
   "codemirror_mode": {
    "name": "ipython",
    "version": 3
   },
   "file_extension": ".py",
   "mimetype": "text/x-python",
   "name": "python",
   "nbconvert_exporter": "python",
   "pygments_lexer": "ipython3",
   "version": "3.9.6"
  },
  "orig_nbformat": 4
 },
 "nbformat": 4,
 "nbformat_minor": 2
}
